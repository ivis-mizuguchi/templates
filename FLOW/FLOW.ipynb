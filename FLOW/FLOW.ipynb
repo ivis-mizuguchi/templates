{
 "cells": [
  {
   "cell_type": "markdown",
   "id": "b6e6fa62",
   "metadata": {},
   "source": [
    "# フロー\n",
    "\n",
    "研究の準備、実施、公開までの研究者のワークフローを支援するためのフローを作成します。  \n",
    "以下のセルを上から順番に実行してください。"
   ]
  },
  {
   "cell_type": "markdown",
   "id": "ab1b456b",
   "metadata": {},
   "source": [
    "## ワークフロー支援機能の使い方\n",
    "\n",
    "「0.ワークフローを実行するための準備をする」を最初に実行したあと、研究準備フェーズから実験期フェーズ、実験終了後フェーズの順に必要なワークフローを実行してください。また、全てのワークフローを実行する必要はありません。  \n",
    "「フェーズの概要」を確認後、最後のセルを実行してワークフロー図を作成してください。  \n"
   ]
  },
  {
   "cell_type": "markdown",
   "id": "4b5bd2b2",
   "metadata": {},
   "source": [
    "## フェーズの概要"
   ]
  },
  {
   "cell_type": "markdown",
   "id": "d27970ec",
   "metadata": {},
   "source": [
    "### 0. ワークフローを実行するための準備をする\n",
    "\n",
    "次のフェーズに進む前に必ず実行する必要があります。<br>ワークフロー機能を使うのが初めての場合は、「FLOWの立ち上げ毎に実行」、「初回立ち上げ時のみ実行」の順にで実行してください。<br>2回目以降は、ワークフロー機能を実行する前に「FLOWの立ち上げ毎に実行」を実行してください。"
   ]
  },
  {
   "cell_type": "markdown",
   "id": "65dbb0c0",
   "metadata": {},
   "source": [
    "### 1. 研究準備フェーズ\n",
    "\n",
    "研究準備フェーズでは実験前の準備をサポートします。"
   ]
  },
  {
   "cell_type": "markdown",
   "id": "7883887f",
   "metadata": {},
   "source": [
    "### 2. 実験期フェーズ\n",
    "\n",
    "実験期フェーズでは実験の開始から、複数の実験の再現性の確認などをサポートします。<br>まずは、「実験を開始する」から実験を作成してください。実験の終了後、複数の実験の再現性を確認したいタイミングで「実験パイプラインをチェックする」「実験パイプラインを実行する」を実行してください。"
   ]
  },
  {
   "cell_type": "markdown",
   "id": "4e056777",
   "metadata": {},
   "source": [
    "### 3 実験終了後フェーズ\n",
    "\n",
    "実験終了後フェーズでは研究成果の公開をサポートします。"
   ]
  },
  {
   "cell_type": "markdown",
   "id": "eb259ffa",
   "metadata": {},
   "source": [
    "## ワークフロー図を作成する\n",
    "\n",
    "以下のセルを実行してワークフロー図を作成してください。  \n",
    "各ワークフローを実行するにはそれぞれのリンクをクリックしてください。"
   ]
  },
  {
   "cell_type": "code",
   "execution_count": null,
   "id": "61dbf11f",
   "metadata": {},
   "outputs": [],
   "source": [
    "from IPython.display import SVG\n",
    "%cd ~/\n",
    "%run /home/jovyan/m-WORKFLOW/scripts/nb_utils.py\n",
    "SVG(filename=generate_svg_diag(diag='m-WORKFLOW/images/notebooks.diag'))"
   ]
  }
 ],
 "metadata": {
  "kernelspec": {
   "display_name": "Python 3 (ipykernel)",
   "language": "python",
   "name": "python3"
  },
  "language_info": {
   "codemirror_mode": {
    "name": "ipython",
    "version": 3
   },
   "file_extension": ".py",
   "mimetype": "text/x-python",
   "name": "python",
   "nbconvert_exporter": "python",
   "pygments_lexer": "ipython3",
   "version": "3.7.10"
  }
 },
 "nbformat": 4,
 "nbformat_minor": 5
}
